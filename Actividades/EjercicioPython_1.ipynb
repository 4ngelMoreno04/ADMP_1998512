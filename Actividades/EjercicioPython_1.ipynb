{
  "nbformat": 4,
  "nbformat_minor": 0,
  "metadata": {
    "colab": {
      "provenance": [],
      "authorship_tag": "ABX9TyP2lbjCFCPPH9VGcAbteYXn",
      "include_colab_link": true
    },
    "kernelspec": {
      "name": "python3",
      "display_name": "Python 3"
    },
    "language_info": {
      "name": "python"
    }
  },
  "cells": [
    {
      "cell_type": "markdown",
      "metadata": {
        "id": "view-in-github",
        "colab_type": "text"
      },
      "source": [
        "<a href=\"https://colab.research.google.com/github/4ngelMoreno04/ADMP_1998512/blob/main/Actividades/EjercicioPython_1.ipynb\" target=\"_parent\"><img src=\"https://colab.research.google.com/assets/colab-badge.svg\" alt=\"Open In Colab\"/></a>"
      ]
    },
    {
      "cell_type": "code",
      "source": [
        "#Actividad 2: Diseño de algoritmos en Python\n",
        "#Nombre: Angel Damian Moreno Perez\n",
        "#Matricula: 1998512\n",
        "#Hora: N4"
      ],
      "metadata": {
        "id": "lDIYJmRA7V11"
      },
      "execution_count": null,
      "outputs": []
    },
    {
      "cell_type": "code",
      "execution_count": 10,
      "metadata": {
        "id": "306gTdXw2rx7",
        "colab": {
          "base_uri": "https://localhost:8080/"
        },
        "outputId": "4727b684-028a-4a84-aa27-1dcd38fbb830"
      },
      "outputs": [
        {
          "output_type": "stream",
          "name": "stdout",
          "text": [
            "¿Cúal es tu nombre?Angel\n",
            "Hola Angel\n"
          ]
        }
      ],
      "source": [
        "#Programa 1\n",
        "nombre=input (\"¿Cúal es tu nombre?\")\n",
        "if nombre == \"Ana\":\n",
        "  print(\"Quien eres?????????\")\n",
        "elif nombre == \"Juan\":\n",
        "    print(\"No te topo\")\n",
        "elif nombre == \"Pedro\":\n",
        "      print(\"Who?\")\n",
        "else:\n",
        "        print(\"Hola\",nombre)\n",
        "\n",
        "\n",
        "\n"
      ]
    },
    {
      "cell_type": "code",
      "source": [
        "#Programa 2\n",
        "N=int(input (\"¿De que cantidad sera la lista?\"))\n",
        "lista=[]\n",
        "i=0\n",
        "x=0\n",
        "def funcion():\n",
        "  agregar=input(\"Agrega elemento: \")\n",
        "  lista.append(agregar)\n",
        "\n",
        "while i<N:\n",
        "  i+=1\n",
        "  funcion()\n",
        "\n",
        "while x<N:\n",
        "  x+=1\n",
        "  print(lista[-x])\n",
        "\n"
      ],
      "metadata": {
        "id": "hAgmHxID7Kwb",
        "colab": {
          "base_uri": "https://localhost:8080/"
        },
        "outputId": "8ba1b098-685a-47aa-803f-053a97dbaab7"
      },
      "execution_count": 11,
      "outputs": [
        {
          "output_type": "stream",
          "name": "stdout",
          "text": [
            "¿De que cantidad sera la lista?3\n",
            "Agrega elemento: 2\n",
            "Agrega elemento: 1\n",
            "Agrega elemento: 3\n",
            "3\n",
            "1\n",
            "2\n"
          ]
        }
      ]
    },
    {
      "cell_type": "code",
      "source": [
        "#Programa 3\n",
        "N=int(input (\"¿De que cantidad sera la serie \"))\n",
        "lista=[0,1]\n",
        "i=0\n",
        "while i<N:\n",
        "  i+=1\n",
        "  F=lista[-1]+lista[-2]\n",
        "  lista.append(F)\n",
        "  print(F)\n"
      ],
      "metadata": {
        "id": "mtNbSkRFDPwv",
        "colab": {
          "base_uri": "https://localhost:8080/"
        },
        "outputId": "2dba461e-9b87-4074-f671-4d4a01445a4d"
      },
      "execution_count": 12,
      "outputs": [
        {
          "output_type": "stream",
          "name": "stdout",
          "text": [
            "¿De que cantidad sera la serie 5\n",
            "1\n",
            "2\n",
            "3\n",
            "5\n",
            "8\n"
          ]
        }
      ]
    },
    {
      "cell_type": "code",
      "source": [
        "#Programa 4\n",
        "import random\n",
        "\n",
        "def adivina():\n",
        "    resultado = random.randint(1, 100)\n",
        "    intentos = 0\n",
        "\n",
        "    while True:\n",
        "        jugador = int(input(\"Adivina el número entre 1 y 100: \"))\n",
        "        intentos += 1\n",
        "\n",
        "        if jugador == resultado:\n",
        "            print(\"Felicidades, has acertado\")\n",
        "            break\n",
        "        elif jugador < resultado:\n",
        "            print(\"Error, el número es mayor. ¡Inténtalo otra vez! :)\")\n",
        "        elif jugador > resultado:\n",
        "            print(\"Error, el número es menor. ¡Inténtalo otra vez! :)\")\n",
        "adivina()"
      ],
      "metadata": {
        "id": "al0LCsZYN2jw",
        "colab": {
          "base_uri": "https://localhost:8080/"
        },
        "outputId": "3fd60502-a4c6-46c7-c3bd-1de4ec5e1edb"
      },
      "execution_count": 8,
      "outputs": [
        {
          "output_type": "stream",
          "name": "stdout",
          "text": [
            "Adivina el número entre 1 y 100: 50\n",
            "Error, el número es mayor. ¡Inténtalo otra vez! :)\n",
            "Adivina el número entre 1 y 100: 60\n",
            "Error, el número es mayor. ¡Inténtalo otra vez! :)\n",
            "Adivina el número entre 1 y 100: 80\n",
            "Error, el número es mayor. ¡Inténtalo otra vez! :)\n",
            "Adivina el número entre 1 y 100: 90\n",
            "Error, el número es menor. ¡Inténtalo otra vez! :)\n",
            "Adivina el número entre 1 y 100: 85\n",
            "Error, el número es mayor. ¡Inténtalo otra vez! :)\n",
            "Adivina el número entre 1 y 100: 88\n",
            "Error, el número es menor. ¡Inténtalo otra vez! :)\n",
            "Adivina el número entre 1 y 100: 87\n",
            "Error, el número es menor. ¡Inténtalo otra vez! :)\n",
            "Adivina el número entre 1 y 100: 86\n",
            "Felicidades, has acertado\n"
          ]
        }
      ]
    },
    {
      "cell_type": "code",
      "source": [
        "#Programa 5\n",
        "def primo(numero):\n",
        "  if numero < 2:\n",
        "    return False\n",
        "  for i in range (2, int(numero**0.5)+1):\n",
        "    if numero % i == 0:\n",
        "      return False\n",
        "  return True\n",
        "inferior = int(input(\"Ingrese el numero inferior: \"))\n",
        "superior = int(input(\"Ingrese el numero superior: \"))\n",
        "print(f\"Numeros en el rango de {inferior} a {superior}:\")\n",
        "for N in range (inferior, superior + 1):\n",
        "  if primo(N):\n",
        "    print(N)"
      ],
      "metadata": {
        "id": "9CM83BRGbLBq",
        "colab": {
          "base_uri": "https://localhost:8080/"
        },
        "outputId": "891f676c-180c-439c-96a4-6afb6e98b07a"
      },
      "execution_count": 9,
      "outputs": [
        {
          "output_type": "stream",
          "name": "stdout",
          "text": [
            "Ingrese el numero inferior: 2\n",
            "Ingrese el numero superior: 8\n",
            "Numeros en el rango de 2 a 8:\n",
            "2\n",
            "3\n",
            "5\n",
            "7\n"
          ]
        }
      ]
    },
    {
      "cell_type": "code",
      "source": [
        "#Programa 6\n",
        "n1=float(input(\"Ingrese el primer numero: \"))\n",
        "n2=float(input(\"Ingrese el segundo numero: \"))\n",
        "\n",
        "print(f\"Suma: {n1 + n2}\")\n",
        "print(f\"Resta: {n1 - n2}\")\n",
        "print(f\"Multiplicacion: {n1 * n2}\")\n",
        "\n",
        "if n2 != 0:\n",
        "  print(f\"Division: {n1 / n2}\")\n",
        "else:\n",
        "  print(\"Syntax Error\")\n"
      ],
      "metadata": {
        "id": "qhlm0U-TQasn",
        "colab": {
          "base_uri": "https://localhost:8080/"
        },
        "outputId": "7b2039b3-60b4-415a-c9ba-8bd7f8e87001"
      },
      "execution_count": 7,
      "outputs": [
        {
          "output_type": "stream",
          "name": "stdout",
          "text": [
            "Ingrese el primer numero: 2\n",
            "Ingrese el segundo numero: 4\n",
            "Suma: 6.0\n",
            "Resta: -2.0\n",
            "Multiplicacion: 8.0\n",
            "Division: 0.5\n"
          ]
        }
      ]
    }
  ]
}