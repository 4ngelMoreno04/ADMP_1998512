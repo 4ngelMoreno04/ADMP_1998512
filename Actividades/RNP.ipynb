{
  "nbformat": 4,
  "nbformat_minor": 0,
  "metadata": {
    "colab": {
      "provenance": [],
      "authorship_tag": "ABX9TyPmd4tcDFq7dBZS4DiXZhSr",
      "include_colab_link": true
    },
    "kernelspec": {
      "name": "python3",
      "display_name": "Python 3"
    },
    "language_info": {
      "name": "python"
    }
  },
  "cells": [
    {
      "cell_type": "markdown",
      "metadata": {
        "id": "view-in-github",
        "colab_type": "text"
      },
      "source": [
        "<a href=\"https://colab.research.google.com/github/4ngelMoreno04/ADMP_1998512/blob/main/Actividades/RNP.ipynb\" target=\"_parent\"><img src=\"https://colab.research.google.com/assets/colab-badge.svg\" alt=\"Open In Colab\"/></a>"
      ]
    },
    {
      "cell_type": "code",
      "execution_count": null,
      "metadata": {
        "id": "AJMMzcwZLjRM"
      },
      "outputs": [],
      "source": [
        "#Actividad 5:Uso de software para busqueda\n",
        "#Nombre: Angel Damian Moreno Perez\n",
        "#Matricula: 1998512\n",
        "#Hora Clase: N4"
      ]
    },
    {
      "cell_type": "code",
      "source": [
        "import tensorflow as tf\n",
        "import keras\n",
        "import matplotlib.pyplot as plt\n",
        "from keras.layers import Flatten, Dense\n",
        "from keras.models import Sequential"
      ],
      "metadata": {
        "id": "GkVNHS58aE4v"
      },
      "execution_count": 7,
      "outputs": []
    },
    {
      "cell_type": "code",
      "source": [
        "from keras.datasets import mnist\n",
        "(train_data, train_labels), (test_data, test_labels) = mnist.load_data()"
      ],
      "metadata": {
        "colab": {
          "base_uri": "https://localhost:8080/"
        },
        "id": "Wi4cfvHfcbAK",
        "outputId": "37c840cb-b883-4e31-da1f-1c04689877d0"
      },
      "execution_count": 1,
      "outputs": [
        {
          "output_type": "stream",
          "name": "stdout",
          "text": [
            "Downloading data from https://storage.googleapis.com/tensorflow/tf-keras-datasets/mnist.npz\n",
            "11490434/11490434 [==============================] - 0s 0us/step\n"
          ]
        }
      ]
    },
    {
      "cell_type": "code",
      "source": [
        "model = Sequential([\n",
        "    Flatten(input_shape=(28, 28)),\n",
        "    Dense(128, activation='relu'),\n",
        "    Dense(10, activation='softmax')\n",
        "])"
      ],
      "metadata": {
        "id": "7CjdJT6ZdaUa"
      },
      "execution_count": 9,
      "outputs": []
    },
    {
      "cell_type": "code",
      "source": [
        "model.compile(optimizer='adam',\n",
        "              loss='sparse_categorical_crossentropy',\n",
        "              metrics=['accuracy'])"
      ],
      "metadata": {
        "id": "N1FDpigmeMsm"
      },
      "execution_count": 11,
      "outputs": []
    },
    {
      "cell_type": "code",
      "source": [
        "model.fit(train_data, train_labels, epochs=10)"
      ],
      "metadata": {
        "colab": {
          "base_uri": "https://localhost:8080/"
        },
        "id": "ddXqn903e9ud",
        "outputId": "3c09e4e1-ee32-40ac-99cc-0330bfca8a9e"
      },
      "execution_count": 12,
      "outputs": [
        {
          "output_type": "stream",
          "name": "stdout",
          "text": [
            "Epoch 1/10\n",
            "1875/1875 [==============================] - 10s 5ms/step - loss: 2.7430 - accuracy: 0.8663\n",
            "Epoch 2/10\n",
            "1875/1875 [==============================] - 9s 5ms/step - loss: 0.3856 - accuracy: 0.9115\n",
            "Epoch 3/10\n",
            "1875/1875 [==============================] - 10s 5ms/step - loss: 0.2808 - accuracy: 0.9298\n",
            "Epoch 4/10\n",
            "1875/1875 [==============================] - 9s 5ms/step - loss: 0.2562 - accuracy: 0.9380\n",
            "Epoch 5/10\n",
            "1875/1875 [==============================] - 9s 5ms/step - loss: 0.2219 - accuracy: 0.9442\n",
            "Epoch 6/10\n",
            "1875/1875 [==============================] - 8s 4ms/step - loss: 0.2094 - accuracy: 0.9485\n",
            "Epoch 7/10\n",
            "1875/1875 [==============================] - 9s 5ms/step - loss: 0.1989 - accuracy: 0.9517\n",
            "Epoch 8/10\n",
            "1875/1875 [==============================] - 9s 5ms/step - loss: 0.1917 - accuracy: 0.9543\n",
            "Epoch 9/10\n",
            "1875/1875 [==============================] - 8s 4ms/step - loss: 0.1826 - accuracy: 0.9558\n",
            "Epoch 10/10\n",
            "1875/1875 [==============================] - 9s 5ms/step - loss: 0.1746 - accuracy: 0.9580\n"
          ]
        },
        {
          "output_type": "execute_result",
          "data": {
            "text/plain": [
              "<keras.src.callbacks.History at 0x7e185829a9b0>"
            ]
          },
          "metadata": {},
          "execution_count": 12
        }
      ]
    },
    {
      "cell_type": "code",
      "source": [
        "test_loss, test_accuracy = model.evaluate(test_data, test_labels)\n",
        "print(\"Prueba de exactitud del conjunto de datos:\", test_accuracy)"
      ],
      "metadata": {
        "colab": {
          "base_uri": "https://localhost:8080/"
        },
        "id": "OCf2hu1Jf2Dt",
        "outputId": "af356ff2-2e16-48d2-b501-2186ba6ea890"
      },
      "execution_count": 13,
      "outputs": [
        {
          "output_type": "stream",
          "name": "stdout",
          "text": [
            "313/313 [==============================] - 1s 2ms/step - loss: 0.2586 - accuracy: 0.9495\n",
            "Prueba de exactitud del conjunto de datos: 0.9495000243186951\n"
          ]
        }
      ]
    },
    {
      "cell_type": "code",
      "source": [
        "numero_red = model.predict(test_data)[0].reshape(10, 1)\n",
        "print(\"La red dice que el numero es:\", numero_red, \"El numero real es:\", test_labels[0])"
      ],
      "metadata": {
        "colab": {
          "base_uri": "https://localhost:8080/"
        },
        "id": "9gwHXJn_gtGY",
        "outputId": "0bc00c1a-7161-417f-e53b-d51026648b99"
      },
      "execution_count": 15,
      "outputs": [
        {
          "output_type": "stream",
          "name": "stdout",
          "text": [
            "313/313 [==============================] - 1s 2ms/step\n",
            "La red dice que el numero es: [[0.0000000e+00]\n",
            " [1.2169001e-10]\n",
            " [2.8451025e-11]\n",
            " [4.0411194e-09]\n",
            " [1.6789718e-21]\n",
            " [3.1016715e-18]\n",
            " [1.0027592e-35]\n",
            " [9.9999994e-01]\n",
            " [3.6575304e-28]\n",
            " [2.0534922e-18]] El numero real es: 7\n"
          ]
        }
      ]
    },
    {
      "cell_type": "code",
      "source": [
        "numero_red = model.predict(test_data)[1].reshape(10, 1)\n",
        "print(\"La red dice que el numero es:\", numero_red, \"El numero real es:\", test_labels[1])"
      ],
      "metadata": {
        "colab": {
          "base_uri": "https://localhost:8080/"
        },
        "id": "Cixiif_lh3Hi",
        "outputId": "97eb444d-0938-4bd5-ffb0-a261e4c0fd04"
      },
      "execution_count": 18,
      "outputs": [
        {
          "output_type": "stream",
          "name": "stdout",
          "text": [
            "313/313 [==============================] - 1s 3ms/step\n",
            "La red dice que el numero es: [[6.5321216e-15]\n",
            " [2.5999979e-12]\n",
            " [9.9999994e-01]\n",
            " [6.9209951e-21]\n",
            " [0.0000000e+00]\n",
            " [3.7072842e-36]\n",
            " [7.7933824e-32]\n",
            " [4.5742181e-29]\n",
            " [4.6938882e-29]\n",
            " [0.0000000e+00]] El numero real es: 2\n"
          ]
        }
      ]
    },
    {
      "cell_type": "code",
      "source": [
        "numero_red = model.predict(test_data)[2].reshape(10, 1)\n",
        "print(\"La red dice que el numero es:\", numero_red, \"El numero real es:\", test_labels[2])"
      ],
      "metadata": {
        "colab": {
          "base_uri": "https://localhost:8080/"
        },
        "id": "pY-0Bui6iEX8",
        "outputId": "6ca4b543-17b9-499e-e052-0e87f59f939a"
      },
      "execution_count": 21,
      "outputs": [
        {
          "output_type": "stream",
          "name": "stdout",
          "text": [
            "313/313 [==============================] - 1s 2ms/step\n",
            "La red dice que el numero es: [[1.6335110e-11]\n",
            " [9.9999946e-01]\n",
            " [1.6768049e-09]\n",
            " [1.1378556e-16]\n",
            " [2.4921962e-10]\n",
            " [2.0863159e-13]\n",
            " [4.2804857e-08]\n",
            " [5.3207862e-07]\n",
            " [1.9367612e-09]\n",
            " [2.8707872e-18]] El numero real es: 1\n"
          ]
        }
      ]
    },
    {
      "cell_type": "code",
      "source": [
        "numero_red = model.predict(test_data)[3].reshape(10, 1)\n",
        "print(\"La red dice que el numero es:\", numero_red, \"El numero real es:\", test_labels[3])"
      ],
      "metadata": {
        "colab": {
          "base_uri": "https://localhost:8080/"
        },
        "id": "ocBJK_e3iP7A",
        "outputId": "f676e0f1-0a46-4a1e-f70a-f7d6557421fe"
      },
      "execution_count": 22,
      "outputs": [
        {
          "output_type": "stream",
          "name": "stdout",
          "text": [
            "313/313 [==============================] - 1s 2ms/step\n",
            "La red dice que el numero es: [[9.9994045e-01]\n",
            " [4.5477847e-34]\n",
            " [7.7582804e-08]\n",
            " [3.9966237e-15]\n",
            " [4.6957579e-14]\n",
            " [2.4278164e-09]\n",
            " [3.5912814e-07]\n",
            " [5.4819638e-11]\n",
            " [5.8072797e-05]\n",
            " [9.7556369e-07]] El numero real es: 0\n"
          ]
        }
      ]
    },
    {
      "cell_type": "code",
      "source": [
        "numero_red = model.predict(test_data)[4].reshape(10, 1)\n",
        "print(\"La red dice que el numero es:\", numero_red, \"El numero real es:\", test_labels[4])"
      ],
      "metadata": {
        "colab": {
          "base_uri": "https://localhost:8080/"
        },
        "id": "1e7moMiSiUVl",
        "outputId": "f36c3902-019b-475b-fa5b-c2650aa0edb4"
      },
      "execution_count": 23,
      "outputs": [
        {
          "output_type": "stream",
          "name": "stdout",
          "text": [
            "313/313 [==============================] - 1s 2ms/step\n",
            "La red dice que el numero es: [[2.5168500e-22]\n",
            " [6.7597902e-22]\n",
            " [6.2765075e-17]\n",
            " [2.6796289e-25]\n",
            " [9.9999994e-01]\n",
            " [1.7695710e-20]\n",
            " [1.8856382e-14]\n",
            " [1.6203268e-11]\n",
            " [1.3919451e-18]\n",
            " [3.5845787e-13]] El numero real es: 4\n"
          ]
        }
      ]
    }
  ]
}